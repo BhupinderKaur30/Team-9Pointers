{
 "cells": [
  {
   "cell_type": "code",
   "execution_count": 1,
   "id": "e5f9348e",
   "metadata": {},
   "outputs": [
    {
     "name": "stdout",
     "output_type": "stream",
     "text": [
      "Mean Squared Error: 8.925524156210677e-06\n",
      "Enter the values for the following parameters:\n",
      "Pitch: 250\n",
      "Jitter: 0.14\n",
      "Rate_of_Articulation: 180\n",
      "Spectral_Flux: 0.132\n",
      "Energy: 560\n",
      "Breathiness: 0.82\n",
      "Roughness: 0.7\n",
      "Hoarseness: 0.72\n",
      "Predicted Virtual Voice Score: 124.29040709426768\n"
     ]
    },
    {
     "name": "stderr",
     "output_type": "stream",
     "text": [
      "C:\\Users\\bhupi\\anaconda3\\Lib\\site-packages\\sklearn\\base.py:464: UserWarning: X does not have valid feature names, but LinearRegression was fitted with feature names\n",
      "  warnings.warn(\n"
     ]
    }
   ],
   "source": [
    "import pandas as pd\n",
    "from sklearn.model_selection import train_test_split\n",
    "from sklearn.linear_model import LinearRegression\n",
    "from sklearn.metrics import mean_squared_error\n",
    "\n",
    "# Load dataset\n",
    "data = pd.read_csv(\"virtual_voice_scores.csv\")  # Replace \"virtual_voice_data.csv\" with your dataset file path\n",
    "\n",
    "# Separate features (X) and target variable (y)\n",
    "X = data[['Pitch', 'Jitter', 'Rate_of_Articulation', 'Spectral_Flux', 'Energy', 'Breathiness', 'Roughness', 'Hoarseness']]\n",
    "y = data['Virtual_Voice_Score']\n",
    "\n",
    "# Split the dataset into train and test sets\n",
    "X_train, X_test, y_train, y_test = train_test_split(X, y, test_size=0.2, random_state=42)\n",
    "\n",
    "# Train the model\n",
    "model = LinearRegression()\n",
    "model.fit(X_train, y_train)\n",
    "\n",
    "# Predict on the test set\n",
    "y_pred = model.predict(X_test)\n",
    "\n",
    "# Evaluate the model\n",
    "mse = mean_squared_error(y_test, y_pred)\n",
    "print(\"Mean Squared Error:\", mse)\n",
    "\n",
    "# Ask for new input\n",
    "new_input = []\n",
    "print(\"Enter the values for the following parameters:\")\n",
    "for param in X.columns:\n",
    "    val = float(input(f\"{param}: \"))\n",
    "    new_input.append(val)\n",
    "\n",
    "# Make prediction for new input\n",
    "predicted_score = model.predict([new_input])\n",
    "print(\"Predicted Virtual Voice Score:\", predicted_score[0])\n"
   ]
  },
  {
   "cell_type": "code",
   "execution_count": 2,
   "id": "bc7b0c99",
   "metadata": {},
   "outputs": [
    {
     "name": "stdout",
     "output_type": "stream",
     "text": [
      "Predicted Virtual Voice Score: 124.29040709426768\n",
      "The person is fit.\n"
     ]
    },
    {
     "name": "stderr",
     "output_type": "stream",
     "text": [
      "C:\\Users\\bhupi\\anaconda3\\Lib\\site-packages\\sklearn\\base.py:464: UserWarning: X does not have valid feature names, but LinearRegression was fitted with feature names\n",
      "  warnings.warn(\n"
     ]
    }
   ],
   "source": [
    "# Make prediction for new input\n",
    "predicted_score = model.predict([new_input])[0]\n",
    "print(\"Predicted Virtual Voice Score:\", predicted_score)\n",
    "\n",
    "# Check conditions and print diagnosis\n",
    "if predicted_score >= 121:\n",
    "    print(\"The person is fit.\")\n",
    "elif 55.59 <= predicted_score <= 71.94:\n",
    "    print(\"The person is suffering from Parkinson's Disease.\")\n",
    "elif 71.94 < predicted_score <= 104.64:\n",
    "    print(\"The person is suffering from Respiratory Disorders.\")\n",
    "elif 104.64 < predicted_score <= 121:\n",
    "    print(\"The person is suffering from depression and anxiety.\")\n"
   ]
  },
  {
   "cell_type": "code",
   "execution_count": 3,
   "id": "9f762c18",
   "metadata": {},
   "outputs": [
    {
     "name": "stdout",
     "output_type": "stream",
     "text": [
      "Enter the values for the following parameters:\n",
      "Pitch: 150\n",
      "Jitter: 0.11\n",
      "Rate_of_Articulation: 150\n",
      "Spectral_Flux: 0.152\n",
      "Energy: 480\n",
      "Breathiness: 0.92\n",
      "Roughness: 0.6\n",
      "Hoarseness: 0.82\n",
      "Predicted Virtual Voice Score: 93.31301591002762\n"
     ]
    },
    {
     "name": "stderr",
     "output_type": "stream",
     "text": [
      "C:\\Users\\bhupi\\anaconda3\\Lib\\site-packages\\sklearn\\base.py:464: UserWarning: X does not have valid feature names, but LinearRegression was fitted with feature names\n",
      "  warnings.warn(\n"
     ]
    }
   ],
   "source": [
    "# Ask for new input\n",
    "new_input = []\n",
    "print(\"Enter the values for the following parameters:\")\n",
    "for param in X.columns:\n",
    "    val = float(input(f\"{param}: \"))\n",
    "    new_input.append(val)\n",
    "\n",
    "# Make prediction for new input\n",
    "predicted_score = model.predict([new_input])\n",
    "print(\"Predicted Virtual Voice Score:\", predicted_score[0])\n"
   ]
  },
  {
   "cell_type": "code",
   "execution_count": 4,
   "id": "e3f390e8",
   "metadata": {},
   "outputs": [
    {
     "name": "stdout",
     "output_type": "stream",
     "text": [
      "Predicted Virtual Voice Score: 93.31301591002762\n",
      "The person is suffering from Respiratory Disorders.\n"
     ]
    },
    {
     "name": "stderr",
     "output_type": "stream",
     "text": [
      "C:\\Users\\bhupi\\anaconda3\\Lib\\site-packages\\sklearn\\base.py:464: UserWarning: X does not have valid feature names, but LinearRegression was fitted with feature names\n",
      "  warnings.warn(\n"
     ]
    }
   ],
   "source": [
    "# Make prediction for new input\n",
    "predicted_score = model.predict([new_input])[0]\n",
    "print(\"Predicted Virtual Voice Score:\", predicted_score)\n",
    "\n",
    "# Check conditions and print diagnosis\n",
    "if predicted_score >= 121:\n",
    "    print(\"The person is fit.\")\n",
    "elif 55.59 <= predicted_score <= 71.94:\n",
    "    print(\"The person is suffering from Parkinson's Disease.\")\n",
    "elif 71.94 < predicted_score <= 104.64:\n",
    "    print(\"The person is suffering from Respiratory Disorders.\")\n",
    "elif 104.64 < predicted_score <= 121:\n",
    "    print(\"The person is suffering from depression and anxiety.\")\n"
   ]
  },
  {
   "cell_type": "code",
   "execution_count": null,
   "id": "5b479100",
   "metadata": {},
   "outputs": [],
   "source": []
  }
 ],
 "metadata": {
  "kernelspec": {
   "display_name": "Python 3 (ipykernel)",
   "language": "python",
   "name": "python3"
  },
  "language_info": {
   "codemirror_mode": {
    "name": "ipython",
    "version": 3
   },
   "file_extension": ".py",
   "mimetype": "text/x-python",
   "name": "python",
   "nbconvert_exporter": "python",
   "pygments_lexer": "ipython3",
   "version": "3.11.5"
  }
 },
 "nbformat": 4,
 "nbformat_minor": 5
}
